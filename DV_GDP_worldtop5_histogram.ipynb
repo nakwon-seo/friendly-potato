{
 "cells": [
  {
   "cell_type": "code",
   "execution_count": 739,
   "metadata": {},
   "outputs": [],
   "source": [
    "import numpy as np\n",
    "import pandas as pd"
   ]
  },
  {
   "cell_type": "code",
   "execution_count": 740,
   "metadata": {},
   "outputs": [],
   "source": [
    "%matplotlib inline\n",
    "import matplotlib as mpl\n",
    "import matplotlib.pyplot as plt"
   ]
  },
  {
   "cell_type": "code",
   "execution_count": 741,
   "metadata": {},
   "outputs": [],
   "source": [
    "df_gdp=pd.read_excel(\"http://api.worldbank.org/v2/en/indicator/NY.GDP.MKTP.CD?downloadformat=excel\",skiprows=range(3))\n",
    "#df_gdp.head()"
   ]
  },
  {
   "cell_type": "code",
   "execution_count": 742,
   "metadata": {},
   "outputs": [
    {
     "data": {
      "text/plain": [
       "(264, 64)"
      ]
     },
     "execution_count": 742,
     "metadata": {},
     "output_type": "execute_result"
    }
   ],
   "source": [
    "df_gdp.shape"
   ]
  },
  {
   "cell_type": "code",
   "execution_count": 743,
   "metadata": {},
   "outputs": [],
   "source": [
    "df_gdp = df_gdp.drop(['Country Code','Indicator Name','Indicator Code'],axis=1)\n",
    "df_gdp = df_gdp.drop('2019', axis=1)\n",
    "#df_gdp.head()"
   ]
  },
  {
   "cell_type": "code",
   "execution_count": 744,
   "metadata": {},
   "outputs": [],
   "source": [
    "df_gdp.rename(columns={'Country Name':'Country'}, inplace=True)\n",
    "#df_gdp.head()"
   ]
  },
  {
   "cell_type": "code",
   "execution_count": 745,
   "metadata": {},
   "outputs": [],
   "source": [
    "df_gdp.set_index(['Country'], inplace=True)\n",
    "#df_gdp.head()"
   ]
  },
  {
   "cell_type": "code",
   "execution_count": 746,
   "metadata": {},
   "outputs": [],
   "source": [
    "df_gdp.drop(df_gdp.loc[:,'1960':'1979'].columns,axis=1, inplace=True)\n",
    "#df_gdp.head()"
   ]
  },
  {
   "cell_type": "code",
   "execution_count": 747,
   "metadata": {},
   "outputs": [],
   "source": [
    "df_gdp.drop(['Arab World','Central Europe and the Baltics','East Asia & Pacific (excluding high income)',\n",
    "             'Early-demographic dividend','East Asia & Pacific','Europe & Central Asia (excluding high income)',\n",
    "             'Europe & Central Asia','Euro area','European Union','Fragile and conflict affected situations','High income',\n",
    "             'Heavily indebted poor countries (HIPC)','IBRD only','IDA & IBRD total','IDA total','IDA blend','IDA only',\n",
    "             'Latin America & Caribbean (excluding high income)','Lao PDR','Latin America & Caribbean',\n",
    "             'Least developed countries: UN classification','Low income','Lower middle income','Low & middle income',\n",
    "             'Late-demographic dividend','Middle East & North Africa','Middle income','Middle East & North Africa (excluding high income)',\n",
    "             'OECD members','Other small states','Pre-demographic dividend','West Bank and Gaza','Pacific island small states',\n",
    "             'Post-demographic dividend','South Asia','Sub-Saharan Africa (excluding high income)','Small states',\n",
    "             'Turks and Caicos Islands','East Asia & Pacific (IDA & IBRD countries)','Europe & Central Asia (IDA & IBRD countries)',\n",
    "             'Latin America & the Caribbean (IDA & IBRD countries)','Middle East & North Africa (IDA & IBRD countries)',\n",
    "             'South Asia (IDA & IBRD)','Sub-Saharan Africa (IDA & IBRD countries)','Upper middle income','World','North America'], \n",
    "            axis=0, inplace=True)\n",
    "#df_gdp.head()"
   ]
  },
  {
   "cell_type": "code",
   "execution_count": 748,
   "metadata": {},
   "outputs": [
    {
     "data": {
      "text/plain": [
       "True"
      ]
     },
     "execution_count": 748,
     "metadata": {},
     "output_type": "execute_result"
    }
   ],
   "source": [
    "all(isinstance(column, str) for column in df_gdp.columns)"
   ]
  },
  {
   "cell_type": "code",
   "execution_count": 749,
   "metadata": {},
   "outputs": [
    {
     "data": {
      "text/plain": [
       "True"
      ]
     },
     "execution_count": 749,
     "metadata": {},
     "output_type": "execute_result"
    }
   ],
   "source": [
    "df_gdp.columns = list(map(str, df_gdp.columns))\n",
    "all(isinstance(column, str) for column in df_gdp.columns)"
   ]
  },
  {
   "cell_type": "code",
   "execution_count": 750,
   "metadata": {},
   "outputs": [
    {
     "name": "stdout",
     "output_type": "stream",
     "text": [
      "data dimensions: (217, 39)\n"
     ]
    }
   ],
   "source": [
    "print ('data dimensions:', df_gdp.shape)"
   ]
  },
  {
   "cell_type": "code",
   "execution_count": 751,
   "metadata": {},
   "outputs": [],
   "source": [
    "df_gdp.columns=list(map(str,df_gdp.columns))\n",
    "years=list(map(str,range(1980,2019)))\n",
    "#years"
   ]
  },
  {
   "cell_type": "code",
   "execution_count": 752,
   "metadata": {},
   "outputs": [],
   "source": [
    "df_gdp['Total'] = df_gdp.sum(axis=1)"
   ]
  },
  {
   "cell_type": "code",
   "execution_count": 753,
   "metadata": {},
   "outputs": [],
   "source": [
    "df_gdp = df_gdp.fillna(0)"
   ]
  },
  {
   "cell_type": "code",
   "execution_count": 754,
   "metadata": {},
   "outputs": [],
   "source": [
    "df_gdp = df_gdp.sort_values(by='Total', ascending=False, axis=0)"
   ]
  },
  {
   "cell_type": "code",
   "execution_count": 755,
   "metadata": {},
   "outputs": [
    {
     "data": {
      "text/plain": [
       "Country\n",
       "United States     2.054434e+13\n",
       "Japan             4.971323e+12\n",
       "China             1.360815e+13\n",
       "Germany           3.947620e+12\n",
       "United Kingdom    2.855297e+12\n",
       "Name: 2018, dtype: float64"
      ]
     },
     "execution_count": 755,
     "metadata": {},
     "output_type": "execute_result"
    }
   ],
   "source": [
    "df_gdp['2018'].head()"
   ]
  },
  {
   "cell_type": "code",
   "execution_count": 756,
   "metadata": {},
   "outputs": [],
   "source": [
    "count, bin_edges = np.histogram(df_gdp['2018'])\n",
    "#print(count)\n",
    "#print(bin_edges)"
   ]
  },
  {
   "cell_type": "code",
   "execution_count": 757,
   "metadata": {},
   "outputs": [
    {
     "data": {
      "image/png": "[encoded data removed]",
      "text/plain": [
       "<Figure size 576x360 with 1 Axes>"
      ]
     },
     "metadata": {
      "needs_background": "light"
     },
     "output_type": "display_data"
    }
   ],
   "source": [
    "df_gdp['2018'].plot(kind='hist', figsize=(8, 5))\n",
    "\n",
    "plt.title('GDP 2018')\n",
    "plt.ylabel('Years')\n",
    "plt.xlabel('GDP(current US$)')\n",
    "plt.show()"
   ]
  },
  {
   "cell_type": "code",
   "execution_count": 758,
   "metadata": {},
   "outputs": [
    {
     "data": {
      "text/html": [
       "<div>\n",
       "<style scoped>\n",
       "    .dataframe tbody tr th:only-of-type {\n",
       "        vertical-align: middle;\n",
       "    }\n",
       "\n",
       "    .dataframe tbody tr th {\n",
       "        vertical-align: top;\n",
       "    }\n",
       "\n",
       "    .dataframe thead th {\n",
       "        text-align: right;\n",
       "    }\n",
       "</style>\n",
       "<table border=\"1\" class=\"dataframe\">\n",
       "  <thead>\n",
       "    <tr style=\"text-align: right;\">\n",
       "      <th></th>\n",
       "      <th>1980</th>\n",
       "      <th>1981</th>\n",
       "      <th>1982</th>\n",
       "      <th>1983</th>\n",
       "      <th>1984</th>\n",
       "      <th>1985</th>\n",
       "      <th>1986</th>\n",
       "      <th>1987</th>\n",
       "      <th>1988</th>\n",
       "      <th>1989</th>\n",
       "      <th>...</th>\n",
       "      <th>2009</th>\n",
       "      <th>2010</th>\n",
       "      <th>2011</th>\n",
       "      <th>2012</th>\n",
       "      <th>2013</th>\n",
       "      <th>2014</th>\n",
       "      <th>2015</th>\n",
       "      <th>2016</th>\n",
       "      <th>2017</th>\n",
       "      <th>2018</th>\n",
       "    </tr>\n",
       "    <tr>\n",
       "      <th>Country</th>\n",
       "      <th></th>\n",
       "      <th></th>\n",
       "      <th></th>\n",
       "      <th></th>\n",
       "      <th></th>\n",
       "      <th></th>\n",
       "      <th></th>\n",
       "      <th></th>\n",
       "      <th></th>\n",
       "      <th></th>\n",
       "      <th></th>\n",
       "      <th></th>\n",
       "      <th></th>\n",
       "      <th></th>\n",
       "      <th></th>\n",
       "      <th></th>\n",
       "      <th></th>\n",
       "      <th></th>\n",
       "      <th></th>\n",
       "      <th></th>\n",
       "      <th></th>\n",
       "    </tr>\n",
       "  </thead>\n",
       "  <tbody>\n",
       "    <tr>\n",
       "      <td>United States</td>\n",
       "      <td>2.857307e+12</td>\n",
       "      <td>3.207042e+12</td>\n",
       "      <td>3.343789e+12</td>\n",
       "      <td>3.634038e+12</td>\n",
       "      <td>4.037613e+12</td>\n",
       "      <td>4.338979e+12</td>\n",
       "      <td>4.579631e+12</td>\n",
       "      <td>4.855215e+12</td>\n",
       "      <td>5.236438e+12</td>\n",
       "      <td>5.641580e+12</td>\n",
       "      <td>...</td>\n",
       "      <td>1.444893e+13</td>\n",
       "      <td>1.499205e+13</td>\n",
       "      <td>1.554258e+13</td>\n",
       "      <td>1.619701e+13</td>\n",
       "      <td>1.678485e+13</td>\n",
       "      <td>1.752175e+13</td>\n",
       "      <td>1.821930e+13</td>\n",
       "      <td>1.870719e+13</td>\n",
       "      <td>1.948539e+13</td>\n",
       "      <td>2.054434e+13</td>\n",
       "    </tr>\n",
       "    <tr>\n",
       "      <td>Japan</td>\n",
       "      <td>1.105386e+12</td>\n",
       "      <td>1.218989e+12</td>\n",
       "      <td>1.134518e+12</td>\n",
       "      <td>1.243324e+12</td>\n",
       "      <td>1.318382e+12</td>\n",
       "      <td>1.398893e+12</td>\n",
       "      <td>2.078953e+12</td>\n",
       "      <td>2.532809e+12</td>\n",
       "      <td>3.071683e+12</td>\n",
       "      <td>3.054914e+12</td>\n",
       "      <td>...</td>\n",
       "      <td>5.231383e+12</td>\n",
       "      <td>5.700098e+12</td>\n",
       "      <td>6.157460e+12</td>\n",
       "      <td>6.203213e+12</td>\n",
       "      <td>5.155717e+12</td>\n",
       "      <td>4.850414e+12</td>\n",
       "      <td>4.389476e+12</td>\n",
       "      <td>4.926667e+12</td>\n",
       "      <td>4.859951e+12</td>\n",
       "      <td>4.971323e+12</td>\n",
       "    </tr>\n",
       "    <tr>\n",
       "      <td>China</td>\n",
       "      <td>1.911492e+11</td>\n",
       "      <td>1.958664e+11</td>\n",
       "      <td>2.050897e+11</td>\n",
       "      <td>2.306867e+11</td>\n",
       "      <td>2.599465e+11</td>\n",
       "      <td>3.094880e+11</td>\n",
       "      <td>3.007581e+11</td>\n",
       "      <td>2.729730e+11</td>\n",
       "      <td>3.123536e+11</td>\n",
       "      <td>3.477681e+11</td>\n",
       "      <td>...</td>\n",
       "      <td>5.101702e+12</td>\n",
       "      <td>6.087165e+12</td>\n",
       "      <td>7.551500e+12</td>\n",
       "      <td>8.532231e+12</td>\n",
       "      <td>9.570406e+12</td>\n",
       "      <td>1.043853e+13</td>\n",
       "      <td>1.101554e+13</td>\n",
       "      <td>1.113795e+13</td>\n",
       "      <td>1.214349e+13</td>\n",
       "      <td>1.360815e+13</td>\n",
       "    </tr>\n",
       "  </tbody>\n",
       "</table>\n",
       "<p>3 rows × 39 columns</p>\n",
       "</div>"
      ],
      "text/plain": [
       "                       1980          1981          1982          1983  \\\n",
       "Country                                                                 \n",
       "United States  2.857307e+12  3.207042e+12  3.343789e+12  3.634038e+12   \n",
       "Japan          1.105386e+12  1.218989e+12  1.134518e+12  1.243324e+12   \n",
       "China          1.911492e+11  1.958664e+11  2.050897e+11  2.306867e+11   \n",
       "\n",
       "                       1984          1985          1986          1987  \\\n",
       "Country                                                                 \n",
       "United States  4.037613e+12  4.338979e+12  4.579631e+12  4.855215e+12   \n",
       "Japan          1.318382e+12  1.398893e+12  2.078953e+12  2.532809e+12   \n",
       "China          2.599465e+11  3.094880e+11  3.007581e+11  2.729730e+11   \n",
       "\n",
       "                       1988          1989  ...          2009          2010  \\\n",
       "Country                                    ...                               \n",
       "United States  5.236438e+12  5.641580e+12  ...  1.444893e+13  1.499205e+13   \n",
       "Japan          3.071683e+12  3.054914e+12  ...  5.231383e+12  5.700098e+12   \n",
       "China          3.123536e+11  3.477681e+11  ...  5.101702e+12  6.087165e+12   \n",
       "\n",
       "                       2011          2012          2013          2014  \\\n",
       "Country                                                                 \n",
       "United States  1.554258e+13  1.619701e+13  1.678485e+13  1.752175e+13   \n",
       "Japan          6.157460e+12  6.203213e+12  5.155717e+12  4.850414e+12   \n",
       "China          7.551500e+12  8.532231e+12  9.570406e+12  1.043853e+13   \n",
       "\n",
       "                       2015          2016          2017          2018  \n",
       "Country                                                                \n",
       "United States  1.821930e+13  1.870719e+13  1.948539e+13  2.054434e+13  \n",
       "Japan          4.389476e+12  4.926667e+12  4.859951e+12  4.971323e+12  \n",
       "China          1.101554e+13  1.113795e+13  1.214349e+13  1.360815e+13  \n",
       "\n",
       "[3 rows x 39 columns]"
      ]
     },
     "execution_count": 758,
     "metadata": {},
     "output_type": "execute_result"
    }
   ],
   "source": [
    "df_gdp.loc[['United States','Japan','China'], years]"
   ]
  },
  {
   "cell_type": "code",
   "execution_count": 759,
   "metadata": {},
   "outputs": [],
   "source": [
    "df_gdp_t = df_gdp.loc[['United States','Japan','China','Korea, Rep.'],years].transpose()\n",
    "#df_gdp_t.head()"
   ]
  },
  {
   "cell_type": "code",
   "execution_count": 761,
   "metadata": {},
   "outputs": [
    {
     "ename": "SyntaxError",
     "evalue": "unexpected EOF while parsing (<ipython-input-761-5c923bace60d>, line 3)",
     "output_type": "error",
     "traceback": [
      "\u001b[0;36m  File \u001b[0;32m\"<ipython-input-761-5c923bace60d>\"\u001b[0;36m, line \u001b[0;32m3\u001b[0m\n\u001b[0;31m    #print(name, hex)\u001b[0m\n\u001b[0m                     ^\u001b[0m\n\u001b[0;31mSyntaxError\u001b[0m\u001b[0;31m:\u001b[0m unexpected EOF while parsing\n"
     ]
    }
   ],
   "source": [
    "import matplotlib\n",
    "for name, hex in matplotlib.colors.cnames.items():\n",
    "    #print(name, hex)"
   ]
  },
  {
   "cell_type": "code",
   "execution_count": 762,
   "metadata": {},
   "outputs": [
    {
     "data": {
      "image/png": "[encoded data removed]",
      "text/plain": [
       "<Figure size 720x432 with 1 Axes>"
      ]
     },
     "metadata": {
      "needs_background": "light"
     },
     "output_type": "display_data"
    }
   ],
   "source": [
    "df_gdp_t.plot(kind='hist', figsize=(10,6), alpha=0.4)\n",
    "\n",
    "plt.title('Total GDP of United States, Japan, China')\n",
    "plt.ylabel('Years')\n",
    "plt.xlabel('GDP(current US$)')\n",
    "plt.show()"
   ]
  },
  {
   "cell_type": "code",
   "execution_count": 763,
   "metadata": {},
   "outputs": [
    {
     "data": {
      "image/png": "[encoded data removed]",
      "text/plain": [
       "<Figure size 720x432 with 1 Axes>"
      ]
     },
     "metadata": {
      "needs_background": "light"
     },
     "output_type": "display_data"
    }
   ],
   "source": [
    "count, bin_edges = np.histogram(df_gdp_t, 15)\n",
    "\n",
    "df_gdp_t.plot(kind ='hist', \n",
    "          figsize=(10, 6),\n",
    "          bins=15,\n",
    "          alpha=0.35,\n",
    "          xticks=bin_edges,\n",
    "          color=['#DEB887', '#FFA07A', '#556B2F', '#B0E0E6' ]\n",
    "         )\n",
    "\n",
    "plt.title('Total GDP of United States, Japan, China')\n",
    "plt.ylabel('Years')\n",
    "plt.xlabel('GDP(current US$)')\n",
    "\n",
    "plt.show()"
   ]
  },
  {
   "cell_type": "code",
   "execution_count": 794,
   "metadata": {},
   "outputs": [
    {
     "data": {
      "text/plain": [
       "1980    6.498082e+10\n",
       "1981    7.242559e+10\n",
       "1982    7.777343e+10\n",
       "1983    8.702443e+10\n",
       "1984    9.659743e+10\n",
       "Name: Korea, Rep., dtype: float64"
      ]
     },
     "execution_count": 794,
     "metadata": {},
     "output_type": "execute_result"
    }
   ],
   "source": [
    "df_gdp_korea_rep=df_gdp.loc['Korea, Rep.', years]\n",
    "df_gdp_korea_rep.head()"
   ]
  },
  {
   "cell_type": "code",
   "execution_count": 796,
   "metadata": {},
   "outputs": [
    {
     "data": {
      "image/png": "[encoded data removed]",
      "text/plain": [
       "<Figure size 720x432 with 1 Axes>"
      ]
     },
     "metadata": {
      "needs_background": "light"
     },
     "output_type": "display_data"
    }
   ],
   "source": [
    "df_gdp_korea_rep.plot(kind='bar', figsize=(10,6), color=('#B0E0E6'))\n",
    "\n",
    "plt.title('GDP Republic of Korea and Japan')\n",
    "plt.xlabel('Years')\n",
    "plt.ylabel('GDP(current US$)')\n",
    "\n",
    "plt.show()"
   ]
  },
  {
   "cell_type": "code",
   "execution_count": 797,
   "metadata": {},
   "outputs": [
    {
     "data": {
      "image/png": "[encoded data removed]",
      "text/plain": [
       "<Figure size 720x432 with 1 Axes>"
      ]
     },
     "metadata": {
      "needs_background": "light"
     },
     "output_type": "display_data"
    }
   ],
   "source": [
    "df_gdp_korea_rep.plot(kind='bar', figsize=(10, 6), color='#B0E0E6') \n",
    "\n",
    "plt.title('GDP Republic of Korea')\n",
    "plt.xlabel('Years')\n",
    "plt.ylabel('GDP(current US$)')\n",
    "\n",
    "plt.annotate('',                      \n",
    "             xy=(29.5, 0.92e12),            \n",
    "             xytext=(27, 1.181e12),         \n",
    "             xycoords='data', \n",
    "             arrowprops=dict(arrowstyle='->', connectionstyle='arc3', color='red', lw=2)\n",
    "            )\n",
    "\n",
    "plt.annotate('2008 Financial Crisis', \n",
    "             xy=(29.5, 1.04e12),                    \n",
    "             rotation= -53,                  \n",
    "             va='bottom',                    \n",
    "             ha='right',                      \n",
    "            )\n",
    "\n",
    "plt.show()"
   ]
  },
  {
   "cell_type": "code",
   "execution_count": 809,
   "metadata": {},
   "outputs": [
    {
     "data": {
      "text/html": [
       "<div>\n",
       "<style scoped>\n",
       "    .dataframe tbody tr th:only-of-type {\n",
       "        vertical-align: middle;\n",
       "    }\n",
       "\n",
       "    .dataframe tbody tr th {\n",
       "        vertical-align: top;\n",
       "    }\n",
       "\n",
       "    .dataframe thead th {\n",
       "        text-align: right;\n",
       "    }\n",
       "</style>\n",
       "<table border=\"1\" class=\"dataframe\">\n",
       "  <thead>\n",
       "    <tr style=\"text-align: right;\">\n",
       "      <th></th>\n",
       "      <th>1980</th>\n",
       "      <th>1981</th>\n",
       "      <th>1982</th>\n",
       "      <th>1983</th>\n",
       "      <th>1984</th>\n",
       "      <th>1985</th>\n",
       "      <th>1986</th>\n",
       "      <th>1987</th>\n",
       "      <th>1988</th>\n",
       "      <th>1989</th>\n",
       "      <th>...</th>\n",
       "      <th>2010</th>\n",
       "      <th>2011</th>\n",
       "      <th>2012</th>\n",
       "      <th>2013</th>\n",
       "      <th>2014</th>\n",
       "      <th>2015</th>\n",
       "      <th>2016</th>\n",
       "      <th>2017</th>\n",
       "      <th>2018</th>\n",
       "      <th>Total</th>\n",
       "    </tr>\n",
       "    <tr>\n",
       "      <th>Country</th>\n",
       "      <th></th>\n",
       "      <th></th>\n",
       "      <th></th>\n",
       "      <th></th>\n",
       "      <th></th>\n",
       "      <th></th>\n",
       "      <th></th>\n",
       "      <th></th>\n",
       "      <th></th>\n",
       "      <th></th>\n",
       "      <th></th>\n",
       "      <th></th>\n",
       "      <th></th>\n",
       "      <th></th>\n",
       "      <th></th>\n",
       "      <th></th>\n",
       "      <th></th>\n",
       "      <th></th>\n",
       "      <th></th>\n",
       "      <th></th>\n",
       "      <th></th>\n",
       "    </tr>\n",
       "  </thead>\n",
       "  <tbody>\n",
       "    <tr>\n",
       "      <td>United States</td>\n",
       "      <td>2.857307e+12</td>\n",
       "      <td>3.207042e+12</td>\n",
       "      <td>3.343789e+12</td>\n",
       "      <td>3.634038e+12</td>\n",
       "      <td>4.037613e+12</td>\n",
       "      <td>4.338979e+12</td>\n",
       "      <td>4.579631e+12</td>\n",
       "      <td>4.855215e+12</td>\n",
       "      <td>5.236438e+12</td>\n",
       "      <td>5.641580e+12</td>\n",
       "      <td>...</td>\n",
       "      <td>1.499205e+13</td>\n",
       "      <td>1.554258e+13</td>\n",
       "      <td>1.619701e+13</td>\n",
       "      <td>1.678485e+13</td>\n",
       "      <td>1.752175e+13</td>\n",
       "      <td>1.821930e+13</td>\n",
       "      <td>1.870719e+13</td>\n",
       "      <td>1.948539e+13</td>\n",
       "      <td>2.054434e+13</td>\n",
       "      <td>4.014048e+14</td>\n",
       "    </tr>\n",
       "    <tr>\n",
       "      <td>Japan</td>\n",
       "      <td>1.105386e+12</td>\n",
       "      <td>1.218989e+12</td>\n",
       "      <td>1.134518e+12</td>\n",
       "      <td>1.243324e+12</td>\n",
       "      <td>1.318382e+12</td>\n",
       "      <td>1.398893e+12</td>\n",
       "      <td>2.078953e+12</td>\n",
       "      <td>2.532809e+12</td>\n",
       "      <td>3.071683e+12</td>\n",
       "      <td>3.054914e+12</td>\n",
       "      <td>...</td>\n",
       "      <td>5.700098e+12</td>\n",
       "      <td>6.157460e+12</td>\n",
       "      <td>6.203213e+12</td>\n",
       "      <td>5.155717e+12</td>\n",
       "      <td>4.850414e+12</td>\n",
       "      <td>4.389476e+12</td>\n",
       "      <td>4.926667e+12</td>\n",
       "      <td>4.859951e+12</td>\n",
       "      <td>4.971323e+12</td>\n",
       "      <td>1.552889e+14</td>\n",
       "    </tr>\n",
       "    <tr>\n",
       "      <td>China</td>\n",
       "      <td>1.911492e+11</td>\n",
       "      <td>1.958664e+11</td>\n",
       "      <td>2.050897e+11</td>\n",
       "      <td>2.306867e+11</td>\n",
       "      <td>2.599465e+11</td>\n",
       "      <td>3.094880e+11</td>\n",
       "      <td>3.007581e+11</td>\n",
       "      <td>2.729730e+11</td>\n",
       "      <td>3.123536e+11</td>\n",
       "      <td>3.477681e+11</td>\n",
       "      <td>...</td>\n",
       "      <td>6.087165e+12</td>\n",
       "      <td>7.551500e+12</td>\n",
       "      <td>8.532231e+12</td>\n",
       "      <td>9.570406e+12</td>\n",
       "      <td>1.043853e+13</td>\n",
       "      <td>1.101554e+13</td>\n",
       "      <td>1.113795e+13</td>\n",
       "      <td>1.214349e+13</td>\n",
       "      <td>1.360815e+13</td>\n",
       "      <td>1.254956e+14</td>\n",
       "    </tr>\n",
       "    <tr>\n",
       "      <td>Germany</td>\n",
       "      <td>9.502909e+11</td>\n",
       "      <td>8.004721e+11</td>\n",
       "      <td>7.765764e+11</td>\n",
       "      <td>7.706843e+11</td>\n",
       "      <td>7.251111e+11</td>\n",
       "      <td>7.325349e+11</td>\n",
       "      <td>1.046259e+12</td>\n",
       "      <td>1.298176e+12</td>\n",
       "      <td>1.401233e+12</td>\n",
       "      <td>1.398967e+12</td>\n",
       "      <td>...</td>\n",
       "      <td>3.396354e+12</td>\n",
       "      <td>3.744409e+12</td>\n",
       "      <td>3.527345e+12</td>\n",
       "      <td>3.732743e+12</td>\n",
       "      <td>3.883920e+12</td>\n",
       "      <td>3.360550e+12</td>\n",
       "      <td>3.466790e+12</td>\n",
       "      <td>3.656749e+12</td>\n",
       "      <td>3.947620e+12</td>\n",
       "      <td>9.204184e+13</td>\n",
       "    </tr>\n",
       "    <tr>\n",
       "      <td>United Kingdom</td>\n",
       "      <td>5.649477e+11</td>\n",
       "      <td>5.407657e+11</td>\n",
       "      <td>5.150489e+11</td>\n",
       "      <td>4.896180e+11</td>\n",
       "      <td>4.614871e+11</td>\n",
       "      <td>4.892852e+11</td>\n",
       "      <td>6.014527e+11</td>\n",
       "      <td>7.451626e+11</td>\n",
       "      <td>9.101227e+11</td>\n",
       "      <td>9.268848e+11</td>\n",
       "      <td>...</td>\n",
       "      <td>2.475244e+12</td>\n",
       "      <td>2.659310e+12</td>\n",
       "      <td>2.704888e+12</td>\n",
       "      <td>2.786023e+12</td>\n",
       "      <td>3.063803e+12</td>\n",
       "      <td>2.928591e+12</td>\n",
       "      <td>2.694283e+12</td>\n",
       "      <td>2.666229e+12</td>\n",
       "      <td>2.855297e+12</td>\n",
       "      <td>6.758392e+13</td>\n",
       "    </tr>\n",
       "  </tbody>\n",
       "</table>\n",
       "<p>5 rows × 40 columns</p>\n",
       "</div>"
      ],
      "text/plain": [
       "                        1980          1981          1982          1983  \\\n",
       "Country                                                                  \n",
       "United States   2.857307e+12  3.207042e+12  3.343789e+12  3.634038e+12   \n",
       "Japan           1.105386e+12  1.218989e+12  1.134518e+12  1.243324e+12   \n",
       "China           1.911492e+11  1.958664e+11  2.050897e+11  2.306867e+11   \n",
       "Germany         9.502909e+11  8.004721e+11  7.765764e+11  7.706843e+11   \n",
       "United Kingdom  5.649477e+11  5.407657e+11  5.150489e+11  4.896180e+11   \n",
       "\n",
       "                        1984          1985          1986          1987  \\\n",
       "Country                                                                  \n",
       "United States   4.037613e+12  4.338979e+12  4.579631e+12  4.855215e+12   \n",
       "Japan           1.318382e+12  1.398893e+12  2.078953e+12  2.532809e+12   \n",
       "China           2.599465e+11  3.094880e+11  3.007581e+11  2.729730e+11   \n",
       "Germany         7.251111e+11  7.325349e+11  1.046259e+12  1.298176e+12   \n",
       "United Kingdom  4.614871e+11  4.892852e+11  6.014527e+11  7.451626e+11   \n",
       "\n",
       "                        1988          1989  ...          2010          2011  \\\n",
       "Country                                     ...                               \n",
       "United States   5.236438e+12  5.641580e+12  ...  1.499205e+13  1.554258e+13   \n",
       "Japan           3.071683e+12  3.054914e+12  ...  5.700098e+12  6.157460e+12   \n",
       "China           3.123536e+11  3.477681e+11  ...  6.087165e+12  7.551500e+12   \n",
       "Germany         1.401233e+12  1.398967e+12  ...  3.396354e+12  3.744409e+12   \n",
       "United Kingdom  9.101227e+11  9.268848e+11  ...  2.475244e+12  2.659310e+12   \n",
       "\n",
       "                        2012          2013          2014          2015  \\\n",
       "Country                                                                  \n",
       "United States   1.619701e+13  1.678485e+13  1.752175e+13  1.821930e+13   \n",
       "Japan           6.203213e+12  5.155717e+12  4.850414e+12  4.389476e+12   \n",
       "China           8.532231e+12  9.570406e+12  1.043853e+13  1.101554e+13   \n",
       "Germany         3.527345e+12  3.732743e+12  3.883920e+12  3.360550e+12   \n",
       "United Kingdom  2.704888e+12  2.786023e+12  3.063803e+12  2.928591e+12   \n",
       "\n",
       "                        2016          2017          2018         Total  \n",
       "Country                                                                 \n",
       "United States   1.870719e+13  1.948539e+13  2.054434e+13  4.014048e+14  \n",
       "Japan           4.926667e+12  4.859951e+12  4.971323e+12  1.552889e+14  \n",
       "China           1.113795e+13  1.214349e+13  1.360815e+13  1.254956e+14  \n",
       "Germany         3.466790e+12  3.656749e+12  3.947620e+12  9.204184e+13  \n",
       "United Kingdom  2.694283e+12  2.666229e+12  2.855297e+12  6.758392e+13  \n",
       "\n",
       "[5 rows x 40 columns]"
      ]
     },
     "execution_count": 809,
     "metadata": {},
     "output_type": "execute_result"
    }
   ],
   "source": [
    "df_gdp.head()"
   ]
  },
  {
   "cell_type": "code",
   "execution_count": 807,
   "metadata": {},
   "outputs": [
    {
     "data": {
      "text/plain": [
       "Country\n",
       "United States         4.014048e+14\n",
       "Japan                 1.552889e+14\n",
       "China                 1.254956e+14\n",
       "Germany               9.204184e+13\n",
       "United Kingdom        6.758392e+13\n",
       "France                6.670141e+13\n",
       "Italy                 5.422818e+13\n",
       "Brazil                3.861048e+13\n",
       "Canada                3.631287e+13\n",
       "India                 3.319013e+13\n",
       "Spain                 3.141960e+13\n",
       "Russian Federation    2.894223e+13\n",
       "Sub-Saharan Africa    2.868206e+13\n",
       "Korea, Rep.           2.583983e+13\n",
       "Mexico                2.555793e+13\n",
       "Name: Total, dtype: float64"
      ]
     },
     "execution_count": 807,
     "metadata": {},
     "output_type": "execute_result"
    }
   ],
   "source": [
    "df_gdp_top15 = df_gdp.sort_values(['Total'], ascending=False)\n",
    "\n",
    "df_gdp_top15 = df_gdp['Total'].head(15)\n",
    "df_gdp_top15"
   ]
  },
  {
   "cell_type": "code",
   "execution_count": 810,
   "metadata": {},
   "outputs": [
    {
     "data": {
      "image/png": "[encoded data removed]",
      "text/plain": [
       "<Figure size 864x864 with 1 Axes>"
      ]
     },
     "metadata": {
      "needs_background": "light"
     },
     "output_type": "display_data"
    }
   ],
   "source": [
    "df_gdp_top15.plot(kind='barh', figsize=(12, 12), color='#D8BFD8') \n",
    "plt.gca().invert_yaxis()\n",
    "\n",
    "plt.xlabel('GDP(current US$)')\n",
    "plt.title('GDP Top 15 Countries')\n",
    "\n",
    "\n",
    "'''for index, value in enumerate(df_gdp_top15): \n",
    "    label = format(int(value), ',')\n",
    "    \n",
    "    plt.annotate(label, xy=(value - 47000, index - 0.10), color='black')\n",
    "'''\n",
    "plt.show()"
   ]
  },
  {
   "cell_type": "code",
   "execution_count": null,
   "metadata": {},
   "outputs": [],
   "source": []
  }
 ],
 "metadata": {
  "kernelspec": {
   "display_name": "Python 3",
   "language": "python",
   "name": "python3"
  },
  "language_info": {
   "codemirror_mode": {
    "name": "ipython",
    "version": 3
   },
   "file_extension": ".py",
   "mimetype": "text/x-python",
   "name": "python",
   "nbconvert_exporter": "python",
   "pygments_lexer": "ipython3",
   "version": "3.7.4"
  }
 },
 "nbformat": 4,
 "nbformat_minor": 4
}
