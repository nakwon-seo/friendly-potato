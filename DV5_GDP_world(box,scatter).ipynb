{
 "cells": [
  {
   "cell_type": "code",
   "execution_count": 235,
   "metadata": {},
   "outputs": [],
   "source": [
    "import numpy as np\n",
    "import pandas as pd"
   ]
  },
  {
   "cell_type": "code",
   "execution_count": 236,
   "metadata": {},
   "outputs": [],
   "source": [
    "%matplotlib inline\n",
    "import matplotlib as mpl\n",
    "import matplotlib.pyplot as plt"
   ]
  },
  {
   "cell_type": "code",
   "execution_count": 237,
   "metadata": {},
   "outputs": [],
   "source": [
    "df_gdp=pd.read_excel(\"http://api.worldbank.org/v2/en/indicator/NY.GDP.MKTP.CD?downloadformat=excel\",skiprows=range(3))\n",
    "#df_gdp.head()"
   ]
  },
  {
   "cell_type": "code",
   "execution_count": 238,
   "metadata": {},
   "outputs": [
    {
     "data": {
      "text/plain": [
       "(264, 64)"
      ]
     },
     "execution_count": 238,
     "metadata": {},
     "output_type": "execute_result"
    }
   ],
   "source": [
    "df_gdp.shape"
   ]
  },
  {
   "cell_type": "code",
   "execution_count": 239,
   "metadata": {},
   "outputs": [],
   "source": [
    "df_gdp = df_gdp.drop(['Country Code','Indicator Name','Indicator Code'],axis=1)\n",
    "df_gdp = df_gdp.drop('2019', axis=1)\n",
    "#df_gdp.head()"
   ]
  },
  {
   "cell_type": "code",
   "execution_count": 240,
   "metadata": {},
   "outputs": [],
   "source": [
    "df_gdp.rename(columns={'Country Name':'Country'}, inplace=True)\n",
    "#df_gdp.head()"
   ]
  },
  {
   "cell_type": "code",
   "execution_count": 241,
   "metadata": {},
   "outputs": [],
   "source": [
    "df_gdp.set_index(['Country'], inplace=True)\n",
    "#df_gdp.head()"
   ]
  },
  {
   "cell_type": "code",
   "execution_count": 242,
   "metadata": {},
   "outputs": [],
   "source": [
    "df_gdp.drop(df_gdp.loc[:,'1960':'1979'].columns,axis=1, inplace=True)\n",
    "#df_gdp.head()"
   ]
  },
  {
   "cell_type": "code",
   "execution_count": 243,
   "metadata": {},
   "outputs": [],
   "source": [
    "df_gdp.drop(['Arab World','Central Europe and the Baltics','East Asia & Pacific (excluding high income)',\n",
    "             'Early-demographic dividend','East Asia & Pacific','Europe & Central Asia (excluding high income)',\n",
    "             'Europe & Central Asia','Euro area','European Union','Fragile and conflict affected situations','High income',\n",
    "             'Heavily indebted poor countries (HIPC)','IBRD only','IDA & IBRD total','IDA total','IDA blend','IDA only',\n",
    "             'Latin America & Caribbean (excluding high income)','Lao PDR','Latin America & Caribbean',\n",
    "             'Least developed countries: UN classification','Low income','Lower middle income','Low & middle income',\n",
    "             'Late-demographic dividend','Middle East & North Africa','Middle income','Middle East & North Africa (excluding high income)',\n",
    "             'OECD members','Other small states','Pre-demographic dividend','West Bank and Gaza','Pacific island small states',\n",
    "             'Post-demographic dividend','South Asia','Sub-Saharan Africa (excluding high income)','Small states',\n",
    "             'Turks and Caicos Islands','East Asia & Pacific (IDA & IBRD countries)','Europe & Central Asia (IDA & IBRD countries)',\n",
    "             'Latin America & the Caribbean (IDA & IBRD countries)','Middle East & North Africa (IDA & IBRD countries)',\n",
    "             'South Asia (IDA & IBRD)','Sub-Saharan Africa (IDA & IBRD countries)','Upper middle income','World','North America','Sub-Saharan Africa'], \n",
    "            axis=0, inplace=True)\n",
    "#df_gdp.head()"
   ]
  },
  {
   "cell_type": "code",
   "execution_count": 244,
   "metadata": {},
   "outputs": [
    {
     "data": {
      "text/plain": [
       "True"
      ]
     },
     "execution_count": 244,
     "metadata": {},
     "output_type": "execute_result"
    }
   ],
   "source": [
    "all(isinstance(column, str) for column in df_gdp.columns)"
   ]
  },
  {
   "cell_type": "code",
   "execution_count": 245,
   "metadata": {},
   "outputs": [
    {
     "data": {
      "text/plain": [
       "True"
      ]
     },
     "execution_count": 245,
     "metadata": {},
     "output_type": "execute_result"
    }
   ],
   "source": [
    "df_gdp.columns = list(map(str, df_gdp.columns))\n",
    "all(isinstance(column, str) for column in df_gdp.columns)"
   ]
  },
  {
   "cell_type": "code",
   "execution_count": 246,
   "metadata": {},
   "outputs": [
    {
     "name": "stdout",
     "output_type": "stream",
     "text": [
      "data dimensions: (216, 39)\n"
     ]
    }
   ],
   "source": [
    "print ('data dimensions:', df_gdp.shape)"
   ]
  },
  {
   "cell_type": "code",
   "execution_count": 247,
   "metadata": {},
   "outputs": [],
   "source": [
    "df_gdp.columns=list(map(str,df_gdp.columns))\n",
    "years=list(map(str,range(1980,2019)))\n",
    "#years"
   ]
  },
  {
   "cell_type": "code",
   "execution_count": 248,
   "metadata": {},
   "outputs": [],
   "source": [
    "df_gdp['Total'] = df_gdp.sum(axis=1)"
   ]
  },
  {
   "cell_type": "code",
   "execution_count": 249,
   "metadata": {},
   "outputs": [],
   "source": [
    "df_gdp = df_gdp.fillna(0)"
   ]
  },
  {
   "cell_type": "code",
   "execution_count": 250,
   "metadata": {},
   "outputs": [],
   "source": [
    "df_gdp = df_gdp.sort_values(by='2018', ascending=False, axis=0)"
   ]
  },
  {
   "cell_type": "code",
   "execution_count": 251,
   "metadata": {},
   "outputs": [],
   "source": [
    "#df_gdp.sort_values(['Total'], ascending=False)\n",
    "\n",
    "df_gdp_top15 = df_gdp['2018'].head(15)\n",
    "#df_gdp_top15"
   ]
  },
  {
   "cell_type": "code",
   "execution_count": 252,
   "metadata": {},
   "outputs": [],
   "source": [
    "df_gdp_top15 = df_gdp[years].head(15)\n",
    "#df_gdp_top15"
   ]
  },
  {
   "cell_type": "code",
   "execution_count": 253,
   "metadata": {},
   "outputs": [],
   "source": [
    "years_80s=list(map(str,range(1980,1990)))\n",
    "years_90s=list(map(str,range(1990,2000)))\n",
    "years_00s=list(map(str,range(2000,2010)))\n",
    "years_10s=list(map(str,range(2010,2018)))"
   ]
  },
  {
   "cell_type": "code",
   "execution_count": 254,
   "metadata": {},
   "outputs": [],
   "source": [
    "df_80s=df_gdp_top15.loc[:,years_80s].mean(axis=1)\n",
    "df_90s=df_gdp_top15.loc[:,years_90s].mean(axis=1)\n",
    "df_00s=df_gdp_top15.loc[:,years_00s].mean(axis=1)\n",
    "df_10s=df_gdp_top15.loc[:,years_10s].mean(axis=1)\n",
    "\n",
    "new_df_gdp = pd.DataFrame({'1980s': df_80s, '1990s': df_90s, '2000s':df_00s,'2010s':df_10s}) \n",
    "#new_df_gdp.head()"
   ]
  },
  {
   "cell_type": "code",
   "execution_count": 255,
   "metadata": {},
   "outputs": [
    {
     "data": {
      "text/html": [
       "<div>\n",
       "<style scoped>\n",
       "    .dataframe tbody tr th:only-of-type {\n",
       "        vertical-align: middle;\n",
       "    }\n",
       "\n",
       "    .dataframe tbody tr th {\n",
       "        vertical-align: top;\n",
       "    }\n",
       "\n",
       "    .dataframe thead th {\n",
       "        text-align: right;\n",
       "    }\n",
       "</style>\n",
       "<table border=\"1\" class=\"dataframe\">\n",
       "  <thead>\n",
       "    <tr style=\"text-align: right;\">\n",
       "      <th></th>\n",
       "      <th>1980s</th>\n",
       "      <th>1990s</th>\n",
       "      <th>2000s</th>\n",
       "      <th>2010s</th>\n",
       "    </tr>\n",
       "  </thead>\n",
       "  <tbody>\n",
       "    <tr>\n",
       "      <td>count</td>\n",
       "      <td>1.500000e+01</td>\n",
       "      <td>1.500000e+01</td>\n",
       "      <td>1.500000e+01</td>\n",
       "      <td>1.500000e+01</td>\n",
       "    </tr>\n",
       "    <tr>\n",
       "      <td>mean</td>\n",
       "      <td>7.296921e+11</td>\n",
       "      <td>1.504947e+12</td>\n",
       "      <td>2.393222e+12</td>\n",
       "      <td>3.737991e+12</td>\n",
       "    </tr>\n",
       "    <tr>\n",
       "      <td>std</td>\n",
       "      <td>1.051871e+12</td>\n",
       "      <td>1.974921e+12</td>\n",
       "      <td>3.024871e+12</td>\n",
       "      <td>4.299314e+12</td>\n",
       "    </tr>\n",
       "    <tr>\n",
       "      <td>min</td>\n",
       "      <td>1.061214e+11</td>\n",
       "      <td>3.535083e+11</td>\n",
       "      <td>6.541588e+11</td>\n",
       "      <td>1.179324e+12</td>\n",
       "    </tr>\n",
       "    <tr>\n",
       "      <td>25%</td>\n",
       "      <td>2.170417e+11</td>\n",
       "      <td>4.366282e+11</td>\n",
       "      <td>8.483836e+11</td>\n",
       "      <td>1.538744e+12</td>\n",
       "    </tr>\n",
       "    <tr>\n",
       "      <td>50%</td>\n",
       "      <td>2.733753e+11</td>\n",
       "      <td>6.427365e+11</td>\n",
       "      <td>1.102224e+12</td>\n",
       "      <td>2.060247e+12</td>\n",
       "    </tr>\n",
       "    <tr>\n",
       "      <td>75%</td>\n",
       "      <td>6.769944e+11</td>\n",
       "      <td>1.378911e+12</td>\n",
       "      <td>2.458038e+12</td>\n",
       "      <td>3.171702e+12</td>\n",
       "    </tr>\n",
       "    <tr>\n",
       "      <td>max</td>\n",
       "      <td>4.173163e+12</td>\n",
       "      <td>7.577130e+12</td>\n",
       "      <td>1.259074e+13</td>\n",
       "      <td>1.718126e+13</td>\n",
       "    </tr>\n",
       "  </tbody>\n",
       "</table>\n",
       "</div>"
      ],
      "text/plain": [
       "              1980s         1990s         2000s         2010s\n",
       "count  1.500000e+01  1.500000e+01  1.500000e+01  1.500000e+01\n",
       "mean   7.296921e+11  1.504947e+12  2.393222e+12  3.737991e+12\n",
       "std    1.051871e+12  1.974921e+12  3.024871e+12  4.299314e+12\n",
       "min    1.061214e+11  3.535083e+11  6.541588e+11  1.179324e+12\n",
       "25%    2.170417e+11  4.366282e+11  8.483836e+11  1.538744e+12\n",
       "50%    2.733753e+11  6.427365e+11  1.102224e+12  2.060247e+12\n",
       "75%    6.769944e+11  1.378911e+12  2.458038e+12  3.171702e+12\n",
       "max    4.173163e+12  7.577130e+12  1.259074e+13  1.718126e+13"
      ]
     },
     "execution_count": 255,
     "metadata": {},
     "output_type": "execute_result"
    }
   ],
   "source": [
    "new_df_gdp.describe()"
   ]
  },
  {
   "cell_type": "code",
   "execution_count": 256,
   "metadata": {},
   "outputs": [
    {
     "data": {
      "image/png": "[encoded data removed]",
      "text/plain": [
       "<Figure size 720x432 with 1 Axes>"
      ]
     },
     "metadata": {
      "needs_background": "light"
     },
     "output_type": "display_data"
    }
   ],
   "source": [
    "new_df_gdp.plot(kind='box', figsize=(10,6))\n",
    "plt.title('GDP from top 15 countries for decades 80s, 90s, 2000s and 2010s')\n",
    "plt.show()"
   ]
  },
  {
   "cell_type": "code",
   "execution_count": 257,
   "metadata": {},
   "outputs": [
    {
     "data": {
      "text/html": [
       "<div>\n",
       "<style scoped>\n",
       "    .dataframe tbody tr th:only-of-type {\n",
       "        vertical-align: middle;\n",
       "    }\n",
       "\n",
       "    .dataframe tbody tr th {\n",
       "        vertical-align: top;\n",
       "    }\n",
       "\n",
       "    .dataframe thead th {\n",
       "        text-align: right;\n",
       "    }\n",
       "</style>\n",
       "<table border=\"1\" class=\"dataframe\">\n",
       "  <thead>\n",
       "    <tr style=\"text-align: right;\">\n",
       "      <th></th>\n",
       "      <th>1980s</th>\n",
       "      <th>1990s</th>\n",
       "      <th>2000s</th>\n",
       "      <th>2010s</th>\n",
       "    </tr>\n",
       "    <tr>\n",
       "      <th>Country</th>\n",
       "      <th></th>\n",
       "      <th></th>\n",
       "      <th></th>\n",
       "      <th></th>\n",
       "    </tr>\n",
       "  </thead>\n",
       "  <tbody>\n",
       "    <tr>\n",
       "      <td>United States</td>\n",
       "      <td>4.173163e+12</td>\n",
       "      <td>7.577130e+12</td>\n",
       "      <td>1.259074e+13</td>\n",
       "      <td>1.718126e+13</td>\n",
       "    </tr>\n",
       "    <tr>\n",
       "      <td>China</td>\n",
       "      <td>2.626079e+11</td>\n",
       "      <td>6.863142e+11</td>\n",
       "      <td>2.592138e+12</td>\n",
       "      <td>9.559601e+12</td>\n",
       "    </tr>\n",
       "    <tr>\n",
       "      <td>Japan</td>\n",
       "      <td>1.815785e+12</td>\n",
       "      <td>4.327938e+12</td>\n",
       "      <td>4.663733e+12</td>\n",
       "      <td>5.280374e+12</td>\n",
       "    </tr>\n",
       "    <tr>\n",
       "      <td>Germany</td>\n",
       "      <td>9.900306e+11</td>\n",
       "      <td>2.177681e+12</td>\n",
       "      <td>2.764824e+12</td>\n",
       "      <td>3.596108e+12</td>\n",
       "    </tr>\n",
       "    <tr>\n",
       "      <td>United Kingdom</td>\n",
       "      <td>6.244775e+11</td>\n",
       "      <td>1.326610e+12</td>\n",
       "      <td>2.323938e+12</td>\n",
       "      <td>2.747296e+12</td>\n",
       "    </tr>\n",
       "    <tr>\n",
       "      <td>France</td>\n",
       "      <td>7.295113e+11</td>\n",
       "      <td>1.431213e+12</td>\n",
       "      <td>2.096976e+12</td>\n",
       "      <td>2.668358e+12</td>\n",
       "    </tr>\n",
       "    <tr>\n",
       "      <td>India</td>\n",
       "      <td>2.364114e+11</td>\n",
       "      <td>3.535083e+11</td>\n",
       "      <td>8.303781e+11</td>\n",
       "      <td>2.033552e+12</td>\n",
       "    </tr>\n",
       "    <tr>\n",
       "      <td>Italy</td>\n",
       "      <td>5.934750e+11</td>\n",
       "      <td>1.216282e+12</td>\n",
       "      <td>1.756476e+12</td>\n",
       "      <td>2.060247e+12</td>\n",
       "    </tr>\n",
       "    <tr>\n",
       "      <td>Brazil</td>\n",
       "      <td>2.733753e+11</td>\n",
       "      <td>6.427365e+11</td>\n",
       "      <td>9.709591e+11</td>\n",
       "      <td>2.233893e+12</td>\n",
       "    </tr>\n",
       "    <tr>\n",
       "      <td>Canada</td>\n",
       "      <td>3.835417e+11</td>\n",
       "      <td>6.145255e+11</td>\n",
       "      <td>1.102224e+12</td>\n",
       "      <td>1.699578e+12</td>\n",
       "    </tr>\n",
       "    <tr>\n",
       "      <td>Russian Federation</td>\n",
       "      <td>1.061214e+11</td>\n",
       "      <td>3.984282e+11</td>\n",
       "      <td>7.870291e+11</td>\n",
       "      <td>1.796111e+12</td>\n",
       "    </tr>\n",
       "    <tr>\n",
       "      <td>Korea, Rep.</td>\n",
       "      <td>1.201236e+11</td>\n",
       "      <td>4.368263e+11</td>\n",
       "      <td>8.085874e+11</td>\n",
       "      <td>1.320629e+12</td>\n",
       "    </tr>\n",
       "    <tr>\n",
       "      <td>Australia</td>\n",
       "      <td>1.976719e+11</td>\n",
       "      <td>3.584317e+11</td>\n",
       "      <td>6.541588e+11</td>\n",
       "      <td>1.377911e+12</td>\n",
       "    </tr>\n",
       "    <tr>\n",
       "      <td>Spain</td>\n",
       "      <td>2.516406e+11</td>\n",
       "      <td>5.901462e+11</td>\n",
       "      <td>1.089771e+12</td>\n",
       "      <td>1.335622e+12</td>\n",
       "    </tr>\n",
       "    <tr>\n",
       "      <td>Mexico</td>\n",
       "      <td>1.874451e+11</td>\n",
       "      <td>4.364301e+11</td>\n",
       "      <td>8.663890e+11</td>\n",
       "      <td>1.179324e+12</td>\n",
       "    </tr>\n",
       "  </tbody>\n",
       "</table>\n",
       "</div>"
      ],
      "text/plain": [
       "                           1980s         1990s         2000s         2010s\n",
       "Country                                                                   \n",
       "United States       4.173163e+12  7.577130e+12  1.259074e+13  1.718126e+13\n",
       "China               2.626079e+11  6.863142e+11  2.592138e+12  9.559601e+12\n",
       "Japan               1.815785e+12  4.327938e+12  4.663733e+12  5.280374e+12\n",
       "Germany             9.900306e+11  2.177681e+12  2.764824e+12  3.596108e+12\n",
       "United Kingdom      6.244775e+11  1.326610e+12  2.323938e+12  2.747296e+12\n",
       "France              7.295113e+11  1.431213e+12  2.096976e+12  2.668358e+12\n",
       "India               2.364114e+11  3.535083e+11  8.303781e+11  2.033552e+12\n",
       "Italy               5.934750e+11  1.216282e+12  1.756476e+12  2.060247e+12\n",
       "Brazil              2.733753e+11  6.427365e+11  9.709591e+11  2.233893e+12\n",
       "Canada              3.835417e+11  6.145255e+11  1.102224e+12  1.699578e+12\n",
       "Russian Federation  1.061214e+11  3.984282e+11  7.870291e+11  1.796111e+12\n",
       "Korea, Rep.         1.201236e+11  4.368263e+11  8.085874e+11  1.320629e+12\n",
       "Australia           1.976719e+11  3.584317e+11  6.541588e+11  1.377911e+12\n",
       "Spain               2.516406e+11  5.901462e+11  1.089771e+12  1.335622e+12\n",
       "Mexico              1.874451e+11  4.364301e+11  8.663890e+11  1.179324e+12"
      ]
     },
     "execution_count": 257,
     "metadata": {},
     "output_type": "execute_result"
    }
   ],
   "source": [
    "new_df_gdp.head(15)"
   ]
  },
  {
   "cell_type": "code",
   "execution_count": 386,
   "metadata": {},
   "outputs": [],
   "source": [
    "#'Scatter plots'"
   ]
  },
  {
   "cell_type": "code",
   "execution_count": 387,
   "metadata": {},
   "outputs": [
    {
     "data": {
      "text/html": [
       "<div>\n",
       "<style scoped>\n",
       "    .dataframe tbody tr th:only-of-type {\n",
       "        vertical-align: middle;\n",
       "    }\n",
       "\n",
       "    .dataframe tbody tr th {\n",
       "        vertical-align: top;\n",
       "    }\n",
       "\n",
       "    .dataframe thead th {\n",
       "        text-align: right;\n",
       "    }\n",
       "</style>\n",
       "<table border=\"1\" class=\"dataframe\">\n",
       "  <thead>\n",
       "    <tr style=\"text-align: right;\">\n",
       "      <th></th>\n",
       "      <th>year</th>\n",
       "      <th>total</th>\n",
       "    </tr>\n",
       "  </thead>\n",
       "  <tbody>\n",
       "    <tr>\n",
       "      <td>0</td>\n",
       "      <td>1980</td>\n",
       "      <td>1.069390e+13</td>\n",
       "    </tr>\n",
       "    <tr>\n",
       "      <td>1</td>\n",
       "      <td>1981</td>\n",
       "      <td>1.107674e+13</td>\n",
       "    </tr>\n",
       "    <tr>\n",
       "      <td>2</td>\n",
       "      <td>1982</td>\n",
       "      <td>1.097108e+13</td>\n",
       "    </tr>\n",
       "    <tr>\n",
       "      <td>3</td>\n",
       "      <td>1983</td>\n",
       "      <td>1.118908e+13</td>\n",
       "    </tr>\n",
       "    <tr>\n",
       "      <td>4</td>\n",
       "      <td>1984</td>\n",
       "      <td>1.159689e+13</td>\n",
       "    </tr>\n",
       "  </tbody>\n",
       "</table>\n",
       "</div>"
      ],
      "text/plain": [
       "   year         total\n",
       "0  1980  1.069390e+13\n",
       "1  1981  1.107674e+13\n",
       "2  1982  1.097108e+13\n",
       "3  1983  1.118908e+13\n",
       "4  1984  1.159689e+13"
      ]
     },
     "execution_count": 387,
     "metadata": {},
     "output_type": "execute_result"
    }
   ],
   "source": [
    "df_gdp_tal = pd.DataFrame(df_gdp[years].sum(axis=0))\n",
    "\n",
    "df_gdp_tal.index = map(int, df_gdp_tal.index)\n",
    "\n",
    "df_gdp_tal.reset_index(inplace = True)\n",
    "\n",
    "df_gdp_tal.columns = ['year', 'total']\n",
    "\n",
    "df_gdp_tal.head()"
   ]
  },
  {
   "cell_type": "code",
   "execution_count": 388,
   "metadata": {},
   "outputs": [
    {
     "data": {
      "text/plain": [
       "Text(0, 0.5, 'GDP(current US$)')"
      ]
     },
     "execution_count": 388,
     "metadata": {},
     "output_type": "execute_result"
    },
    {
     "data": {
      "image/png": "[encoded data removed]",
      "text/plain": [
       "<Figure size 720x432 with 1 Axes>"
      ]
     },
     "metadata": {
      "needs_background": "light"
     },
     "output_type": "display_data"
    }
   ],
   "source": [
    "df_gdp_tal.plot(kind='scatter', x='year', y='total', figsize=(10, 6), color='#800000')\n",
    "\n",
    "plt.title('World GDP from 1980 - 2018')\n",
    "plt.xlabel('Year')\n",
    "plt.ylabel('GDP(current US$)')"
   ]
  },
  {
   "cell_type": "code",
   "execution_count": 389,
   "metadata": {},
   "outputs": [],
   "source": [
    "df_gdp_top3 = df_gdp.loc[['United States','Japan','China'], years].transpose()\n",
    "#df_gdp_top3.head()"
   ]
  },
  {
   "cell_type": "code",
   "execution_count": 390,
   "metadata": {},
   "outputs": [],
   "source": [
    "df_gdp_tal2 = pd.DataFrame(df_gdp_top3.sum(axis=1))\n",
    "df_gdp_tal2.reset_index(inplace=True)\n",
    "\n",
    "df_gdp_tal2.columns = ['year', 'total']\n",
    "df_gdp_tal2['year'] = df_gdp_tal2['year'].astype(int)\n",
    "\n",
    "#df_gdp_tal2.head()"
   ]
  },
  {
   "cell_type": "code",
   "execution_count": 391,
   "metadata": {},
   "outputs": [],
   "source": [
    "df_gdp_mi3 = df_gdp.loc[['India','Italy','Brazil'], years].transpose()\n",
    "#df_gdp_mi3.head()"
   ]
  },
  {
   "cell_type": "code",
   "execution_count": 392,
   "metadata": {},
   "outputs": [],
   "source": [
    "df_gdp_tal3 = pd.DataFrame(df_gdp_mi3.sum(axis=1))\n",
    "df_gdp_tal3 = df_gdp_tal3.reset_index()\n",
    "\n",
    "df_gdp_tal3.columns = ['year', 'total']\n",
    "df_gdp_tal3['year'] = df_gdp_tal3['year'].astype(int)\n",
    "\n",
    "#df_gdp_tal3.head()"
   ]
  },
  {
   "cell_type": "code",
   "execution_count": 393,
   "metadata": {},
   "outputs": [],
   "source": [
    "df_gdp_least3 = df_gdp.loc[['Australia','Spain','Mexico'], years].transpose()\n",
    "#df_gdp_least3.head()"
   ]
  },
  {
   "cell_type": "code",
   "execution_count": 394,
   "metadata": {},
   "outputs": [],
   "source": [
    "df_gdp_tal4 = pd.DataFrame(df_gdp_least3.sum(axis=1))\n",
    "df_gdp_tal4 = df_gdp_tal4.reset_index()\n",
    "\n",
    "df_gdp_tal4.columns = ['year', 'total']\n",
    "df_gdp_tal4['year'] = df_gdp_tal4['year'].astype(int)\n",
    "\n",
    "#df_gdp_tal4.head()"
   ]
  },
  {
   "cell_type": "code",
   "execution_count": 395,
   "metadata": {},
   "outputs": [
    {
     "data": {
      "text/plain": [
       "\"fig = plt.figure()\\n\\nax0 = fig.add_subplot(2, 2, 1)\\nax1 = fig.add_subplot(2, 2, 2)\\nax2 = fig.add_subplot(2, 2, 3)\\nax3 = fig.add_subplot(2, 2, 4)\\n\\n\\n\\n\\ndf_gdp_tal.plot(kind='scatter', x='year', y='total', figsize=(20, 15), color='#800000', ax=ax0)\\nax0.set_title('Total GDP from 1980 - 2018')\\nax0.set_xlabel('Year')\\nax0.set_ylabel('GDP(current US$)')\\n\\ndf_gdp_tal2.plot(kind='scatter', x='year', y='total', figsize=(20, 15), color='#00CED1', ax=ax1)\\nax1.set_title ('GDP from United States, Japan and China from 1980-2018')\\nax1.set_ylabel('GDP(current US$)')\\nax1.set_xlabel('Year')\\n\\ndf_gdp_tal3.plot(kind='scatter', x='year', y='total', figsize=(20, 15), color='pink', ax=ax2)\\nax2.set_title ('GDP from India, Italy and Brazil from 1980-2018')\\nax2.set_xlabel('Year')\\nax2.set_ylabel('GDP(current US$)')\\n\\ndf_gdp_tal4.plot(kind='scatter', x='year', y='total', figsize=(20, 15), color='#90EE90', ax=ax3)\\nax3.set_title ('GDP from Australia, Spain and Mexico from 1980-2018')\\nax3.set_xlabel('Year')\\nax3.set_ylabel('GDP(current US$)')\\n\\nplt.show()\""
      ]
     },
     "execution_count": 395,
     "metadata": {},
     "output_type": "execute_result"
    }
   ],
   "source": [
    "'''fig = plt.figure()\n",
    "\n",
    "ax0 = fig.add_subplot(2, 2, 1)\n",
    "ax1 = fig.add_subplot(2, 2, 2)\n",
    "ax2 = fig.add_subplot(2, 2, 3)\n",
    "ax3 = fig.add_subplot(2, 2, 4)\n",
    "\n",
    "\n",
    "\n",
    "\n",
    "df_gdp_tal.plot(kind='scatter', x='year', y='total', figsize=(20, 15), color='#800000', ax=ax0)\n",
    "ax0.set_title('Total GDP from 1980 - 2018')\n",
    "ax0.set_xlabel('Year')\n",
    "ax0.set_ylabel('GDP(current US$)')\n",
    "\n",
    "df_gdp_tal2.plot(kind='scatter', x='year', y='total', figsize=(20, 15), color='#00CED1', ax=ax1)\n",
    "ax1.set_title ('GDP from United States, Japan and China from 1980-2018')\n",
    "ax1.set_ylabel('GDP(current US$)')\n",
    "ax1.set_xlabel('Year')\n",
    "\n",
    "df_gdp_tal3.plot(kind='scatter', x='year', y='total', figsize=(20, 15), color='pink', ax=ax2)\n",
    "ax2.set_title ('GDP from India, Italy and Brazil from 1980-2018')\n",
    "ax2.set_xlabel('Year')\n",
    "ax2.set_ylabel('GDP(current US$)')\n",
    "\n",
    "df_gdp_tal4.plot(kind='scatter', x='year', y='total', figsize=(20, 15), color='#90EE90', ax=ax3)\n",
    "ax3.set_title ('GDP from Australia, Spain and Mexico from 1980-2018')\n",
    "ax3.set_xlabel('Year')\n",
    "ax3.set_ylabel('GDP(current US$)')\n",
    "\n",
    "plt.show()'''"
   ]
  },
  {
   "cell_type": "code",
   "execution_count": 406,
   "metadata": {},
   "outputs": [
    {
     "data": {
      "image/png": "[encoded data removed]",
      "text/plain": [
       "<Figure size 1800x1440 with 1 Axes>"
      ]
     },
     "metadata": {
      "needs_background": "light"
     },
     "output_type": "display_data"
    }
   ],
   "source": [
    "import pylab as plt\n",
    "\n",
    "'''x = np.random.randint(low=1,high=5,size=50)\n",
    "y = np.random.randint(low=0,high=2,size=50)\n",
    "jittered_y = y + 0.1 * np.random.rand(len(y)) -0.08\n",
    "jittered_x = x + 0.1 * np.random.rand(len(x)) -0.08'''\n",
    "\n",
    "fig = plt.figure()\n",
    "\n",
    "ax0 = fig.add_subplot(2, 2, 1)\n",
    "'''ax1 = fig.add_subplot(2, 2, 2)\n",
    "ax2 = fig.add_subplot(2, 2, 2)\n",
    "ax3 = fig.add_subplot(2, 2, 2)'''\n",
    "\n",
    "df_gdp_tal.plot(kind='scatter', x='year', y='total', figsize=(25, 20), color='darkblue',alpha=0.5, ax=ax0, label='Total GDP from 1980 - 2018')\n",
    "ax0.set_xlabel('Year')\n",
    "ax0.set_ylabel('GDP(current US$)')\n",
    "\n",
    "df_gdp_tal2.plot(kind='scatter', x='year', y='total', figsize=(25, 20), color='#00CED1',alpha=0.5, ax=ax0, label='GDP from United States, Japan and China')\n",
    "\n",
    "df_gdp_tal3.plot(kind='scatter', x='year', y='total', figsize=(25, 20), color='firebrick',alpha=0.5,ax=ax0, label='GDP from India, Italy and Brazil')\n",
    "\n",
    "df_gdp_tal4.plot(kind='scatter', x='year', y='total', figsize=(25, 20), color='darkgreen',alpha=0.5, ax=ax0, label='GDP from Australia, Spain and Mexico')\n",
    "ax0.set_title ('Comparism total gdp and Top rankings of countries')\n",
    "\n",
    "plt.legend(loc='upper left');\n",
    "\n",
    "plt.show()"
   ]
  }
 ],
 "metadata": {
  "kernelspec": {
   "display_name": "Python 3",
   "language": "python",
   "name": "python3"
  },
  "language_info": {
   "codemirror_mode": {
    "name": "ipython",
    "version": 3
   },
   "file_extension": ".py",
   "mimetype": "text/x-python",
   "name": "python",
   "nbconvert_exporter": "python",
   "pygments_lexer": "ipython3",
   "version": "3.7.4"
  }
 },
 "nbformat": 4,
 "nbformat_minor": 4
}
